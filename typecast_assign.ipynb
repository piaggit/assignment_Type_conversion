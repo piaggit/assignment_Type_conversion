{
 "cells": [
  {
   "cell_type": "code",
   "execution_count": 1,
   "id": "93a4b758-5146-4549-ab36-65c193f5b37e",
   "metadata": {},
   "outputs": [],
   "source": [
    "a=102"
   ]
  },
  {
   "cell_type": "code",
   "execution_count": 2,
   "id": "80b99030-2365-41c9-9eef-2830cb47f99d",
   "metadata": {},
   "outputs": [
    {
     "data": {
      "text/plain": [
       "int"
      ]
     },
     "execution_count": 2,
     "metadata": {},
     "output_type": "execute_result"
    }
   ],
   "source": [
    "type(a)"
   ]
  },
  {
   "cell_type": "code",
   "execution_count": 4,
   "id": "c5cf75ac-e6a2-48d5-89d6-33babc7f076b",
   "metadata": {},
   "outputs": [
    {
     "data": {
      "text/plain": [
       "102.0"
      ]
     },
     "execution_count": 4,
     "metadata": {},
     "output_type": "execute_result"
    }
   ],
   "source": [
    "#Convert a integer to a floating-point number.\n",
    "float(a)"
   ]
  },
  {
   "cell_type": "code",
   "execution_count": null,
   "id": "81e9a913-5252-4cd2-8335-3cbb77c91aad",
   "metadata": {},
   "outputs": [],
   "source": []
  },
  {
   "cell_type": "code",
   "execution_count": 6,
   "id": "9a9386fc-9660-446d-b1c4-f0ac47ab2b21",
   "metadata": {},
   "outputs": [
    {
     "data": {
      "text/plain": [
       "102"
      ]
     },
     "execution_count": 6,
     "metadata": {},
     "output_type": "execute_result"
    }
   ],
   "source": [
    "#Convert a float to an integer.\n",
    "int(a)"
   ]
  },
  {
   "cell_type": "code",
   "execution_count": 7,
   "id": "e071812d-7c7c-4293-a37e-668b0bb173d6",
   "metadata": {},
   "outputs": [
    {
     "data": {
      "text/plain": [
       "'102'"
      ]
     },
     "execution_count": 7,
     "metadata": {},
     "output_type": "execute_result"
    }
   ],
   "source": [
    "#Convert a integer to a string.\n",
    "str(a)"
   ]
  },
  {
   "cell_type": "code",
   "execution_count": 15,
   "id": "aa4f6903-ae26-47a9-9975-f3f57feee15c",
   "metadata": {},
   "outputs": [
    {
     "name": "stdout",
     "output_type": "stream",
     "text": [
      "(2, 'Sun', 5.2, 'Moon')\n"
     ]
    }
   ],
   "source": [
    "#Convert a list to a tuple.\n",
    "L=[2,'Sun', 5.2, 'Moon'] #List\n",
    "print (tuple(i for i in L))"
   ]
  },
  {
   "cell_type": "code",
   "execution_count": 25,
   "id": "77dea602-2ac6-4b3d-9d4b-9306e4166022",
   "metadata": {},
   "outputs": [
    {
     "name": "stdout",
     "output_type": "stream",
     "text": [
      "['Mercury', 'Venus', 12, 46, 'a']\n"
     ]
    }
   ],
   "source": [
    "#Convert a tuple to a list.\n",
    "T=(\"Mercury\", \"Venus\", 12, 46, \"a\") #Tuple\n",
    "arr =[]\n",
    "for i in T:\n",
    "    arr.append(i)\n",
    "print(arr)"
   ]
  },
  {
   "cell_type": "code",
   "execution_count": 19,
   "id": "2e1bf917-cf3e-45fa-8222-9e36cbd4d039",
   "metadata": {},
   "outputs": [
    {
     "data": {
      "text/plain": [
       "'0b100110'"
      ]
     },
     "execution_count": 19,
     "metadata": {},
     "output_type": "execute_result"
    }
   ],
   "source": [
    "#Convert a decimal number to binary.\n",
    "bin(38)"
   ]
  },
  {
   "cell_type": "code",
   "execution_count": 20,
   "id": "c5a85aef-50b5-4424-840d-b7e02f1ab9ea",
   "metadata": {},
   "outputs": [
    {
     "data": {
      "text/plain": [
       "True"
      ]
     },
     "execution_count": 20,
     "metadata": {},
     "output_type": "execute_result"
    }
   ],
   "source": [
    "#Convert a non-zero number to boolean.\n",
    "bool(4)"
   ]
  }
 ],
 "metadata": {
  "kernelspec": {
   "display_name": "Python 3 (ipykernel)",
   "language": "python",
   "name": "python3"
  },
  "language_info": {
   "codemirror_mode": {
    "name": "ipython",
    "version": 3
   },
   "file_extension": ".py",
   "mimetype": "text/x-python",
   "name": "python",
   "nbconvert_exporter": "python",
   "pygments_lexer": "ipython3",
   "version": "3.10.8"
  }
 },
 "nbformat": 4,
 "nbformat_minor": 5
}
